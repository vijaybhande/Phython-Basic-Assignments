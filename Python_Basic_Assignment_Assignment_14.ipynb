{
 "cells": [
  {
   "cell_type": "markdown",
   "id": "c6293bf6",
   "metadata": {},
   "source": [
    "1. What does RGBA stand for?\n",
    "Ans: Red, Green, Blue, and Alpha.\n",
    "\n",
    "2. From the Pillow module, how do you get the RGBA value of any images?\n",
    "Ans: \n",
    "To get the RGBA value of any images from the Pillow module, we can use the getpixel() method of the Image object.\n",
    "\n",
    "\n",
    "3. What is a box tuple, and how does it work?\n",
    "Ans:\n",
    "A box tuple is a tuple containing four integer values representing the coordinates of a rectangular region in an image. The four values are (left, upper, right, lower), where (left, upper) are the coordinates of the top-left corner of the box, and (right, lower) are the coordinates of the bottom-right corner of the box. It works by defining the boundaries of the region we want to work with.\n",
    "\n",
    "4. Use your image and load in notebook then, How can you find out the width and height of an Image object?\n",
    "Ans: \n",
    "from PIL import Image\n",
    "image = Image.open(\"my image.png\")\n",
    "width, height = image.size\n",
    "\n",
    "5. What method would you call to get Image object for a 100×100 image, excluding the lower-left quarter of it?\n",
    "Ans:\n",
    "cropped_image = image.crop((0, 0, 50, 50))\n",
    "\n",
    "6. After making changes to an Image object, how could you save it as an image file?\n",
    "Ans:\n",
    "image.save(\"new_image.png\")\n",
    "\n",
    "7. What module contains Pillow’s shape-drawing code?\n",
    "Ans:\n",
    "ImageDraw module\n",
    "\n",
    "8. Image objects do not have drawing methods. What kind of object does? How do you get this kind of object?\n",
    "Ans:\n",
    "Image objects do not have drawing methods. Instead, we need to use a drawing object from the ImageDraw module to draw shapes, text, or other elements onto an image. \n",
    "We can get this drawing object by calling the ImageDraw.Draw() function and passing the Image object as an argument. \n",
    "For example:\n",
    "from PIL import ImageDraw\n",
    "draw = ImageDraw.Draw(image)"
   ]
  }
 ],
 "metadata": {
  "kernelspec": {
   "display_name": "Python 3 (ipykernel)",
   "language": "python",
   "name": "python3"
  },
  "language_info": {
   "codemirror_mode": {
    "name": "ipython",
    "version": 3
   },
   "file_extension": ".py",
   "mimetype": "text/x-python",
   "name": "python",
   "nbconvert_exporter": "python",
   "pygments_lexer": "ipython3",
   "version": "3.11.5"
  }
 },
 "nbformat": 4,
 "nbformat_minor": 5
}
