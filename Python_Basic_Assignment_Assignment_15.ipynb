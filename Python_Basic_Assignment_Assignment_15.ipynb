{
 "cells": [
  {
   "cell_type": "markdown",
   "id": "ae77c111",
   "metadata": {},
   "source": [
    "1. How many seconds are in an hour? Use the interactive interpreter as a calculator and multiply the number of seconds in a minute (60) by the number of minutes in an hour (also 60).\n",
    "Ans:\n",
    "To find out how many seconds are in an hour, we can multiply the number of seconds in a minute (60) by the number of minutes in an hour (60)\n",
    "\n",
    "\n",
    "2. Assign the result from the previous task (seconds in an hour) to a variable called seconds_per_hour.\n",
    "Ans:\n",
    "seconds_per_hour = 60 * 60\n",
    "\n",
    "3. How many seconds do you think there are in a day? Make use of the variables seconds per hour and minutes per hour.\n",
    "Ans:\n",
    "seconds_per_day = seconds_per_hour * 24\n",
    "\n",
    "4. Calculate seconds per day again, but this time save the result in a variable called seconds_per_day\n",
    "Ans:\n",
    "seconds_per_day = seconds_per_hour * 24\n",
    "\n",
    "5. Divide seconds_per_day by seconds_per_hour. Use floating-point (/) division.\n",
    "Ans:\n",
    "seconds_per_day / seconds_per_hour\n",
    "\n",
    "6. Divide seconds_per_day by seconds_per_hour, using integer (//) division. Did this number agree with the floating-point value from the previous question, aside from the final .0?\n",
    "Ans:\n",
    "seconds_per_day // seconds_per_hour\n"
   ]
  },
  {
   "cell_type": "markdown",
   "id": "9c768731",
   "metadata": {},
   "source": [
    "7. Write a generator, genPrimes, that returns the sequence of prime numbers on successive calls to its next() method: 2, 3, 5, 7, 11, ...\n",
    "Ans:"
   ]
  },
  {
   "cell_type": "code",
   "execution_count": null,
   "id": "bdcd4f05",
   "metadata": {},
   "outputs": [],
   "source": [
    "def genPrimes():\n",
    "    prime = 2\n",
    "    primes = set()\n",
    "    while True:\n",
    "        is_prime = True\n",
    "        for p in primes:\n",
    "            if prime % p == 0:\n",
    "                is_prime = False\n",
    "                break\n",
    "        if is_prime:\n",
    "            primes.add(prime)\n",
    "            yield prime\n",
    "        prime += 1\n",
    "\n",
    "# Example usage:\n",
    "prime_generator = genPrimes()\n",
    "print(next(prime_generator))  # Output: 2\n",
    "print(next(prime_generator))  # Output: 3\n",
    "print(next(prime_generator))  # Output: 5\n",
    "print(next(prime_generator))  # Output: 7\n",
    "print(next(prime_generator))  # Output: 11\n"
   ]
  }
 ],
 "metadata": {
  "kernelspec": {
   "display_name": "Python 3 (ipykernel)",
   "language": "python",
   "name": "python3"
  },
  "language_info": {
   "codemirror_mode": {
    "name": "ipython",
    "version": 3
   },
   "file_extension": ".py",
   "mimetype": "text/x-python",
   "name": "python",
   "nbconvert_exporter": "python",
   "pygments_lexer": "ipython3",
   "version": "3.11.5"
  }
 },
 "nbformat": 4,
 "nbformat_minor": 5
}
