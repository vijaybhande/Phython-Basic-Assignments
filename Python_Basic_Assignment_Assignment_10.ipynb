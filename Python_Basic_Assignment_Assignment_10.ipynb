{
 "cells": [
  {
   "cell_type": "markdown",
   "id": "b367ddd2",
   "metadata": {},
   "source": [
    "1. How do you distinguish between shutil.copy() and shutil.copytree()?\n",
    "Ans:shutil.copy() is used to copy a single file from one location to another,\n",
    "shutil.copytree() is used to recursively copy an entire directory tree from one location to another.\n",
    "\n",
    "2. What function is used to rename files??\n",
    "Ans: The os.rename() function is used to rename files in Python.\n",
    "\n",
    "3. What is the difference between the delete functions in the send2trash and shutil modules?\n",
    "Ans:The delete functions in the send2trash and shutil modules differ in their approach. \n",
    "The send2trash module sends files or directories to the operating system's trash or recycle bin, allowing for easy recovery if needed, while the shutil module permanently deletes files or directories from the file system.\n",
    "\n",
    "4. ZipFile objects have a close() method just like File objects’ close() method. What ZipFile method is equivalent to File objects’ open() method?\n",
    "Ans: The equivalent method in ZipFile objects to File objects' open() method is the ZipFile() constructor. This method is used to create a new ZipFile object, which can then be used to interact with zip archive files.\n"
   ]
  },
  {
   "cell_type": "markdown",
   "id": "3be01a22",
   "metadata": {},
   "source": [
    "5. Create a programme that searches a folder tree for files with a certain file extension (such as .pdf or .jpg). Copy these files from whatever location they are in to a new folder. "
   ]
  },
  {
   "cell_type": "code",
   "execution_count": null,
   "id": "25e5564b",
   "metadata": {},
   "outputs": [],
   "source": [
    "#Ans\n",
    "import os\n",
    "import shutil\n",
    "\n",
    "def search_and_copy(source_folder, destination_folder, extension):\n",
    "    for foldername, subfolders, filenames in os.walk(source_folder):\n",
    "        for filename in filenames:\n",
    "            if filename.endswith(extension):\n",
    "                source_file = os.path.join(foldername, filename)\n",
    "                shutil.copy(source_file, destination_folder)\n",
    "\n",
    "# Example usage:\n",
    "source_folder = \"/path/to/source/folder\"\n",
    "destination_folder = \"/path/to/destination/folder\"\n",
    "extension = \".pdf\"  # We can change this to the desired file extension\n",
    "search_and_copy(source_folder, destination_folder, extension)"
   ]
  }
 ],
 "metadata": {
  "kernelspec": {
   "display_name": "Python 3 (ipykernel)",
   "language": "python",
   "name": "python3"
  },
  "language_info": {
   "codemirror_mode": {
    "name": "ipython",
    "version": 3
   },
   "file_extension": ".py",
   "mimetype": "text/x-python",
   "name": "python",
   "nbconvert_exporter": "python",
   "pygments_lexer": "ipython3",
   "version": "3.11.5"
  }
 },
 "nbformat": 4,
 "nbformat_minor": 5
}
