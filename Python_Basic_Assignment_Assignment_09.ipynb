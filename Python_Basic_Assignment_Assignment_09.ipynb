{
 "cells": [
  {
   "cell_type": "markdown",
   "id": "64db1561",
   "metadata": {},
   "source": [
    "1. To what does a relative path refer?\n",
    "Ans: It to the location of a file or directory relative to the current working directory.\n",
    "\n",
    "2. What does an absolute path start with your operating system?\n",
    "Ans: An absolute path starts with the root directory of the file system on our operating system.\n",
    "\n",
    "3. What do the functions os.getcwd() and os.chdir() do?\n",
    "Ans: os.getcwd() returns the current working directory, os.chdir() changes the current working directory to the specified path.\n",
    "\n",
    "4. What are the . and .. folders?\n",
    "Ans:'.' folder represents the current directory, and the '..' folder represents the parent directory.\n",
    "\n",
    "5. In C:\\bacon\\eggs\\spam.txt, which part is the dir name, and which part is the base name?\n",
    "Ans: In the path C:\\bacon\\eggs\\spam.txt, 'C:\\bacon\\eggs' is the dir name (directory name), and 'spam.txt' is the base name (file name).\n",
    "\n",
    "6. What are the three “mode” arguments that can be passed to the open() function?\n",
    "Ans: The three \"mode\" arguments that can be passed to the open() function are: 'r', 'w', and 'a'.\n",
    "\n",
    "7. What happens if an existing file is opened in write mode?\n",
    "Ans: If an existing file is opened in write mode ('w'), it will be truncated to zero length, meaning all its contents will be deleted.\n",
    "\n",
    "8. How do you tell the difference between read() and readlines()?\n",
    "Ans: read() reads the entire contents of a file into a single string, readlines() reads the contents of the file line by line into a list. \n",
    "\n",
    "9. What data structure does a shelf value resemble?\n",
    "Ans: A shelf value in Python resembles a dictionary data structure."
   ]
  }
 ],
 "metadata": {
  "kernelspec": {
   "display_name": "Python 3 (ipykernel)",
   "language": "python",
   "name": "python3"
  },
  "language_info": {
   "codemirror_mode": {
    "name": "ipython",
    "version": 3
   },
   "file_extension": ".py",
   "mimetype": "text/x-python",
   "name": "python",
   "nbconvert_exporter": "python",
   "pygments_lexer": "ipython3",
   "version": "3.11.5"
  }
 },
 "nbformat": 4,
 "nbformat_minor": 5
}
