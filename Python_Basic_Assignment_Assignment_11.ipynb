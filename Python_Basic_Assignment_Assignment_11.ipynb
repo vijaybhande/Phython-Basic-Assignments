{
 "cells": [
  {
   "cell_type": "markdown",
   "id": "5403b9e0",
   "metadata": {},
   "source": [
    "1. Create an assert statement that throws an AssertionError if the variable spam is a negative integer."
   ]
  },
  {
   "cell_type": "code",
   "execution_count": 2,
   "id": "181fd909",
   "metadata": {},
   "outputs": [],
   "source": [
    "#Ans:\n",
    "assert spam >= 0, \"spam should not be negative\""
   ]
  },
  {
   "cell_type": "markdown",
   "id": "c79befd0",
   "metadata": {},
   "source": [
    "2. Write an assert statement that triggers an AssertionError if the variables eggs and bacon contain strings that are the same as each other, even if their cases are different (that is, &#39;hello&#39; and &#39;hello&#39; are considered the same, and &#39;goodbye&#39; and &#39;GOODbye&#39; are also considered the same)."
   ]
  },
  {
   "cell_type": "code",
   "execution_count": null,
   "id": "23c86051",
   "metadata": {},
   "outputs": [],
   "source": [
    "#Ans:\n",
    "assert eggs.lower() != bacon.lower(), \"eggs and bacon should not be the same (case-insensitive)\"\n"
   ]
  },
  {
   "cell_type": "markdown",
   "id": "b31ed590",
   "metadata": {},
   "source": [
    "3. Create an assert statement that throws an AssertionError every time."
   ]
  },
  {
   "cell_type": "code",
   "execution_count": null,
   "id": "423d2be4",
   "metadata": {},
   "outputs": [],
   "source": [
    "#Ans:\n",
    "assert False, \"This assert statement always triggers an AssertionError\""
   ]
  },
  {
   "cell_type": "markdown",
   "id": "76e0e3dd",
   "metadata": {},
   "source": [
    "4. What are the two lines that must be present in your software in order to call logging.debug()?"
   ]
  },
  {
   "cell_type": "code",
   "execution_count": null,
   "id": "cd3d4b20",
   "metadata": {},
   "outputs": [],
   "source": [
    "#Ans:\n",
    "import logging\n",
    "logging.basicConfig(level=logging.DEBUG, format='%(asctime)s - %(levelname)s - %(message)s')"
   ]
  },
  {
   "cell_type": "markdown",
   "id": "ecf1f0a8",
   "metadata": {},
   "source": [
    "5. What are the two lines that your program must have in order to have logging.debug() send a logging message to a file named programLog.txt?"
   ]
  },
  {
   "cell_type": "code",
   "execution_count": null,
   "id": "32ab9eb9",
   "metadata": {},
   "outputs": [],
   "source": [
    "#Ans:\n",
    "import logging\n",
    "logging.basicConfig(filename='programLog.txt', level=logging.DEBUG, format='%(asctime)s - %(levelname)s - %(message)s')\n"
   ]
  },
  {
   "cell_type": "markdown",
   "id": "618a9100",
   "metadata": {},
   "source": [
    "6. What are the five levels of logging?\n",
    "Ans: DEBUG, INFO, WARNING, ERROR, CRITICAL"
   ]
  },
  {
   "cell_type": "markdown",
   "id": "b514b107",
   "metadata": {},
   "source": [
    "7. What line of code would you add to your software to disable all logging messages?"
   ]
  },
  {
   "cell_type": "code",
   "execution_count": null,
   "id": "942b821a",
   "metadata": {},
   "outputs": [],
   "source": [
    "#Ans:\n",
    "logging.disable(logging.CRITICAL)"
   ]
  },
  {
   "cell_type": "markdown",
   "id": "ac7c2fb7",
   "metadata": {},
   "source": [
    "8. Why is using logging messages better than using print() to display the same message?\n",
    "Ans: Using logging messages is better than using print() because logging allows for more granular control over the messages severity levels, destination (console, file, etc.), and formatting. It also makes it easier to manage and analyze logs, especially in large and complex software systems.\n",
    "\n",
    "9. What are the differences between the Step Over, Step In, and Step Out buttons in the debugger?\n",
    "Ans: \n",
    "Step Over: Executes the current line of code and stops at the next line, without stepping into any function calls on that line.\n",
    "\n",
    "Step In: If the current line of code contains a function call, it steps into that function and stops at the first line of code inside the function.\n",
    "\n",
    "Step Out: Continues execution until the current function returns, then stops at the line of code immediately after the function call.\n",
    "\n",
    "10. After you click Continue, when will the debugger stop ?\n",
    "Ans: After clicking Continue, the debugger will stop when it encounters the next breakpoint or when the program execution finishes.\n",
    "\n",
    "11. What is the concept of a breakpoint?\n",
    "Ans: A breakpoint is a designated point in the code where program execution will pause so that you can inspect variables, step through code, and debug issues. Breakpoints are set by the developer to control the flow of the debugger during execution.\n"
   ]
  }
 ],
 "metadata": {
  "kernelspec": {
   "display_name": "Python 3 (ipykernel)",
   "language": "python",
   "name": "python3"
  },
  "language_info": {
   "codemirror_mode": {
    "name": "ipython",
    "version": 3
   },
   "file_extension": ".py",
   "mimetype": "text/x-python",
   "name": "python",
   "nbconvert_exporter": "python",
   "pygments_lexer": "ipython3",
   "version": "3.11.5"
  }
 },
 "nbformat": 4,
 "nbformat_minor": 5
}
