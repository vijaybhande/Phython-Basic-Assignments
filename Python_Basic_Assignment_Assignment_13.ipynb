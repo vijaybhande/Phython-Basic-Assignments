{
 "cells": [
  {
   "cell_type": "markdown",
   "id": "0a425039",
   "metadata": {},
   "source": [
    "1. What advantages do Excel spreadsheets have over CSV spreadsheets?\n",
    "Ans: \n",
    "Excel spreadsheets have several advantages over CSV spreadsheets:\n",
    "Excel supports formatting options such as font styles, colors, and cell borders, which CSV does not.\n",
    "Excel allows multiple sheets within a single file, whereas CSV files contain only one sheet of data.\n",
    "Excel supports formulas, charts, and other advanced features, making it more suitable for complex data analysis and reporting.\n",
    "Excel files (.xlsx) are often smaller in size compared to CSV files when they contain formatted data or formulas.\n",
    "\n",
    "2. What do you pass to csv.reader() and csv.writer() to create reader and writer objects?\n",
    "Ans:\n",
    "To create reader and writer objects using csv.reader() and csv.writer(), we pass a File object opened in text mode ('r' for reading or 'w' for writing).\n",
    "\n",
    "3. What modes do File objects for reader and writer objects need to be opened in?\n",
    "Ans:\n",
    "File objects for reader and writer objects need to be opened in text mode ('r' for reading and 'w' for writing), respectively.\n",
    "\n",
    "4. What method takes a list argument and writes it to a CSV file?\n",
    "Ans:\n",
    "writerow() method takes a list argument and writes it to a CSV file. Each element in the list corresponds to a cell in the CSV file's row.\n",
    "\n",
    "5. What do the keyword arguments delimiter and line terminator do?\n",
    "Ans:\n",
    "The delimiter keyword argument specifies the character used to separate fields in the CSV file. By default, it is a comma (','), but it can be set to any character, such as a tab ('\\t') or a semicolon (';').\n",
    "\n",
    "The lineterminator keyword argument specifies the character(s) used to terminate lines in the CSV file. By default, it is the newline character ('\\n'), but it can be set to any string.\n",
    "\n",
    "6. What function takes a string of JSON data and returns a Python data structure?\n",
    "Ans:\n",
    "The json.loads() function takes a string of JSON data and returns a Python data structure, such as a dictionary or list.\n",
    "\n",
    "7. What function takes a Python data structure and returns a string of JSON data?\n",
    "Ans:\n",
    "The json.dumps() function takes a Python data structure, such as a dictionary or list, and returns a string of JSON data."
   ]
  }
 ],
 "metadata": {
  "kernelspec": {
   "display_name": "Python 3 (ipykernel)",
   "language": "python",
   "name": "python3"
  },
  "language_info": {
   "codemirror_mode": {
    "name": "ipython",
    "version": 3
   },
   "file_extension": ".py",
   "mimetype": "text/x-python",
   "name": "python",
   "nbconvert_exporter": "python",
   "pygments_lexer": "ipython3",
   "version": "3.11.5"
  }
 },
 "nbformat": 4,
 "nbformat_minor": 5
}
