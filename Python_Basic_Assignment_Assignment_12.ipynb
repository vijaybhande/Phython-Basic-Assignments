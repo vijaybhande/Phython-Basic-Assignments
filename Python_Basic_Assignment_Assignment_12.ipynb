{
 "cells": [
  {
   "cell_type": "markdown",
   "id": "25dc3e73",
   "metadata": {},
   "source": [
    "1. In what modes should the PdfFileReader() and PdfFileWriter() File objects will be opened?\n",
    "Ans: The PdfFileReader() and PdfFileWriter() File objects should be opened in binary mode ('rb' for reading and 'wb' for writing).\n",
    "\n",
    "2. From a PdfFileReader object, how do you get a Page object for page 5?\n",
    "Ans: We can use the getPage() method, page = pdf_reader.getPage(4)\n",
    "\n",
    "3. What PdfFileReader variable stores the number of pages in the PDF document?\n",
    "Ans: The PdfFileReader variable that stores the number of pages in the PDF document is numPages.\n",
    "\n",
    "4. If a PdfFileReader object’s PDF is encrypted with the password swordfish, what must you do before you can obtain Page objects from it?\n",
    "Ans: If a PdfFileReader object's PDF is encrypted with the password 'swordfish', we must decrypt it by calling the decrypt() method and passing the password as an argument before obtaining Page objects from it: \n",
    "pdf_reader.decrypt('swordfish')\n",
    "\n",
    "5. What methods do you use to rotate a page?\n",
    "Ans: To rotate a page, you can use the rotateClockwise() or rotateCounterClockwise() methods of the Page object:\n",
    "page.rotateClockwise(90)\n",
    "\n",
    "6. What is the difference between a Run object and a Paragraph object?\n",
    "Ans: A Run object represents a contiguous run of text with the same style within a paragraph,\n",
    "Paragraph object represents a single paragraph of text.\n",
    "\n",
    "7. How do you obtain a list of Paragraph objects for a Document object that’s stored in a variable named doc?\n",
    "Ans: o obtain a list of Paragraph objects for a Document object stored in a variable named doc, you can use the paragraphs attribute:\n",
    "paragraph_list = doc.paragraphs\n",
    "\n",
    "8. What type of object has bold, underline, italic, strike, and outline variables?\n",
    "Ans: Run object\n",
    "\n",
    "9. What is the difference between False, True, and None for the bold variable?\n",
    "Ans: \n",
    "False: The text is not bold.\n",
    "True: The text is bold.\n",
    "None: The bold formatting is inherited from the surrounding text.\n",
    "\n",
    "10. How do you create a Document object for a new Word document?\n",
    "Ans:\n",
    "from docx import Document\n",
    "doc = Document()\n",
    "\n",
    "11. How do you add a paragraph with the text &#39;Hello, there!&#39; to a Document object stored in a variable named doc?\n",
    "Ans: \n",
    "doc.add_paragraph('Hello, there!')\n",
    "\n",
    "12. What integers represent the levels of headings available in Word documents?\n",
    "Ans: The integers representing the levels of headings available in Word documents are 0 to 8, where 0 represents the Title style, 1 to 8 represent Heading 1 to Heading 8 styles respectively."
   ]
  }
 ],
 "metadata": {
  "kernelspec": {
   "display_name": "Python 3 (ipykernel)",
   "language": "python",
   "name": "python3"
  },
  "language_info": {
   "codemirror_mode": {
    "name": "ipython",
    "version": 3
   },
   "file_extension": ".py",
   "mimetype": "text/x-python",
   "name": "python",
   "nbconvert_exporter": "python",
   "pygments_lexer": "ipython3",
   "version": "3.11.5"
  }
 },
 "nbformat": 4,
 "nbformat_minor": 5
}
