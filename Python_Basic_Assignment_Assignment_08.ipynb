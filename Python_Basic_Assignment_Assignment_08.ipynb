{
 "cells": [
  {
   "cell_type": "markdown",
   "id": "62308a53",
   "metadata": {},
   "source": [
    "1. Is the Python Standard Library included with PyInputPlus?\n",
    "Ans: No, the Python Standard Library is not included with PyInputPlus.\n",
    "\n",
    "2. Why is PyInputPlus commonly imported with import pyinputplus as pypi?\n",
    "Ans: PyInputPlus is commonly imported with import pyinputplus as pypi to make it easier to reference the module in code by using a shorter alias (pypi in this case) instead of typing out the full module name every time. \n",
    "\n",
    "3. How do you distinguish between inputInt() and inputFloat()?\n",
    "Ans: inputInt() is used to accept integer input from the user, while inputFloat() is used to accept floating-point (decimal) input.\n",
    "inputInt() ensures that the user's input is converted to an integer, while inputFloat() ensures it's converted to a float.\n",
    "\n",
    "4. Using PyInputPlus, how do you ensure that the user enters a whole number between 0 and 99?\n",
    "Ans: To ensure that the user enters a whole number between 0 and 99 using PyInputPlus, We can use the inputInt() function with the min and max parameters set to 0 and 99 respectively.\n",
    "\n",
    "5. What is transferred to the keyword arguments allowRegexes and blockRegexes?\n",
    "Ans: The keyword arguments allowRegexes and blockRegexes in PyInputPlus are used to specify regular expressions. \n",
    "allowRegexes allows only inputs that match the specified regular expressions,\n",
    "blockRegexes blocks inputs that match the specified regular expressions.\n",
    "\n",
    "6. If a blank input is entered three times, what does inputStr(limit=3) do?\n",
    "Ans: PyInputPlus will raise a ValidationException after the third attempt, indicating that the user has exceeded the limit of blank inputs.\n",
    "\n",
    "7. If blank input is entered three times, what does inputStr(limit=3, default=&#39;hello&#39;) do?\n",
    "Ans: PyInputPlus will return the default value 'hello' after the third attempt, indicating that the user has exceeded the limit of blank inputs and providing a predefined default value."
   ]
  }
 ],
 "metadata": {
  "kernelspec": {
   "display_name": "Python 3 (ipykernel)",
   "language": "python",
   "name": "python3"
  },
  "language_info": {
   "codemirror_mode": {
    "name": "ipython",
    "version": 3
   },
   "file_extension": ".py",
   "mimetype": "text/x-python",
   "name": "python",
   "nbconvert_exporter": "python",
   "pygments_lexer": "ipython3",
   "version": "3.11.5"
  }
 },
 "nbformat": 4,
 "nbformat_minor": 5
}
